{
 "cells": [
  {
   "cell_type": "markdown",
   "metadata": {
    "run_control": {
     "frozen": false
    }
   },
   "source": [
    "<img src=\"http://hilpisch.com/tpq_logo.png\" alt=\"The Python Quants\" width=\"35%\" align=\"right\" border=\"0\"><br>"
   ]
  },
  {
   "cell_type": "markdown",
   "metadata": {
    "run_control": {
     "frozen": false
    }
   },
   "source": [
    "# Algorithmic Trading\n",
    "\n",
    "## With Machine & Deep Learning"
   ]
  },
  {
   "cell_type": "markdown",
   "metadata": {
    "run_control": {
     "frozen": false
    }
   },
   "source": [
    "**Simple Neural Network with Python**\n",
    "\n",
    "**_ODSC Europe 2017_**\n",
    "\n",
    "Dr. Yves J. Hilpisch\n",
    "\n",
    "The Python Quants GmbH\n",
    "\n",
    "**12. October 2017**"
   ]
  },
  {
   "cell_type": "markdown",
   "metadata": {
    "run_control": {
     "frozen": false
    }
   },
   "source": [
    "<img src=\"http://hilpisch.com/images/finaince_visual_low.png\" width=50% align=left>"
   ]
  },
  {
   "cell_type": "markdown",
   "metadata": {
    "run_control": {
     "frozen": false
    }
   },
   "source": [
    "## The Imports"
   ]
  },
  {
   "cell_type": "code",
   "execution_count": 1,
   "metadata": {
    "ExecuteTime": {
     "end_time": "2017-10-18T14:44:44.251516Z",
     "start_time": "2017-10-18T14:44:43.938619Z"
    },
    "collapsed": true,
    "run_control": {
     "frozen": false
    }
   },
   "outputs": [],
   "source": [
    "import numpy as np\n",
    "from pylab import plt\n",
    "plt.style.use('seaborn')\n",
    "%matplotlib inline"
   ]
  },
  {
   "cell_type": "markdown",
   "metadata": {
    "run_control": {
     "frozen": false
    }
   },
   "source": [
    "## Neural Network for Regression"
   ]
  },
  {
   "cell_type": "markdown",
   "metadata": {
    "run_control": {
     "frozen": false
    }
   },
   "source": [
    "[Regression & Neural Networks](https://www.cs.cmu.edu/afs/cs.cmu.edu/academic/class/15381-s06/www/nn.pdf)"
   ]
  },
  {
   "cell_type": "markdown",
   "metadata": {
    "run_control": {
     "frozen": false
    }
   },
   "source": [
    "### Linear OLS Regression"
   ]
  },
  {
   "cell_type": "markdown",
   "metadata": {},
   "source": [
    "Ordinary least squares."
   ]
  },
  {
   "cell_type": "code",
   "execution_count": 2,
   "metadata": {
    "ExecuteTime": {
     "end_time": "2017-10-18T14:44:44.255999Z",
     "start_time": "2017-10-18T14:44:44.252974Z"
    },
    "collapsed": true,
    "run_control": {
     "frozen": false
    }
   },
   "outputs": [],
   "source": [
    "x = np.linspace(0, 10, 5)\n",
    "y = 3 * x + 2.5 + np.random.standard_normal(len(x)) * 2.5"
   ]
  },
  {
   "cell_type": "code",
   "execution_count": 3,
   "metadata": {
    "ExecuteTime": {
     "end_time": "2017-10-18T14:44:44.391488Z",
     "start_time": "2017-10-18T14:44:44.257440Z"
    },
    "run_control": {
     "frozen": false
    }
   },
   "outputs": [
    {
     "data": {
      "text/plain": [
       "[<matplotlib.lines.Line2D at 0x11244c940>]"
      ]
     },
     "execution_count": 3,
     "metadata": {},
     "output_type": "execute_result"
    },
    {
     "data": {
      "image/png": "[encoded data removed]",
      "text/plain": [
       "<matplotlib.figure.Figure at 0x110a81da0>"
      ]
     },
     "metadata": {},
     "output_type": "display_data"
    }
   ],
   "source": [
    "plt.plot(x, y, 'ro')"
   ]
  },
  {
   "cell_type": "code",
   "execution_count": 4,
   "metadata": {
    "ExecuteTime": {
     "end_time": "2017-10-18T14:44:44.396352Z",
     "start_time": "2017-10-18T14:44:44.393066Z"
    },
    "run_control": {
     "frozen": false
    }
   },
   "outputs": [],
   "source": [
    "reg = np.polyfit(x, y, deg=1)"
   ]
  },
  {
   "cell_type": "code",
   "execution_count": 5,
   "metadata": {
    "ExecuteTime": {
     "end_time": "2017-10-18T14:44:44.401098Z",
     "start_time": "2017-10-18T14:44:44.397503Z"
    },
    "run_control": {
     "frozen": false
    }
   },
   "outputs": [
    {
     "data": {
      "text/plain": [
       "array([ 3.02603043,  2.16727272])"
      ]
     },
     "execution_count": 5,
     "metadata": {},
     "output_type": "execute_result"
    }
   ],
   "source": [
    "reg"
   ]
  },
  {
   "cell_type": "code",
   "execution_count": 6,
   "metadata": {
    "ExecuteTime": {
     "end_time": "2017-10-18T14:44:44.534311Z",
     "start_time": "2017-10-18T14:44:44.402191Z"
    },
    "run_control": {
     "frozen": false
    }
   },
   "outputs": [
    {
     "data": {
      "text/plain": [
       "[<matplotlib.lines.Line2D at 0x11248e048>]"
      ]
     },
     "execution_count": 6,
     "metadata": {},
     "output_type": "execute_result"
    },
    {
     "data": {
      "image/png": "[encoded data removed]",
      "text/plain": [
       "<matplotlib.figure.Figure at 0x11248e5c0>"
      ]
     },
     "metadata": {},
     "output_type": "display_data"
    }
   ],
   "source": [
    "yr = np.polyval(reg, x)\n",
    "plt.plot(x, y, 'ro')\n",
    "plt.plot(x, yr, 'b')"
   ]
  },
  {
   "cell_type": "code",
   "execution_count": 7,
   "metadata": {
    "ExecuteTime": {
     "end_time": "2017-10-18T14:44:44.539313Z",
     "start_time": "2017-10-18T14:44:44.535527Z"
    },
    "run_control": {
     "frozen": false
    }
   },
   "outputs": [
    {
     "data": {
      "text/plain": [
       "2.0387440362472424"
      ]
     },
     "execution_count": 7,
     "metadata": {},
     "output_type": "execute_result"
    }
   ],
   "source": [
    "((y - yr) ** 2).mean()"
   ]
  },
  {
   "cell_type": "markdown",
   "metadata": {
    "run_control": {
     "frozen": false
    }
   },
   "source": [
    "### Network Training &mdash; Single Step"
   ]
  },
  {
   "cell_type": "code",
   "execution_count": 8,
   "metadata": {
    "ExecuteTime": {
     "end_time": "2017-10-18T14:44:44.544701Z",
     "start_time": "2017-10-18T14:44:44.540322Z"
    },
    "collapsed": true,
    "run_control": {
     "frozen": false
    }
   },
   "outputs": [],
   "source": [
    "l0 = np.array((x, len(x) * [1])).T"
   ]
  },
  {
   "cell_type": "code",
   "execution_count": 9,
   "metadata": {
    "ExecuteTime": {
     "end_time": "2017-10-18T14:44:44.549539Z",
     "start_time": "2017-10-18T14:44:44.545771Z"
    },
    "run_control": {
     "frozen": false
    }
   },
   "outputs": [
    {
     "data": {
      "text/plain": [
       "array([[  0. ,   1. ],\n",
       "       [  2.5,   1. ],\n",
       "       [  5. ,   1. ],\n",
       "       [  7.5,   1. ],\n",
       "       [ 10. ,   1. ]])"
      ]
     },
     "execution_count": 9,
     "metadata": {},
     "output_type": "execute_result"
    }
   ],
   "source": [
    "l0"
   ]
  },
  {
   "cell_type": "code",
   "execution_count": 10,
   "metadata": {
    "ExecuteTime": {
     "end_time": "2017-10-18T14:44:44.553060Z",
     "start_time": "2017-10-18T14:44:44.550635Z"
    },
    "collapsed": true,
    "run_control": {
     "frozen": false
    }
   },
   "outputs": [],
   "source": [
    "weights = np.array(((2., 2.)))"
   ]
  },
  {
   "cell_type": "code",
   "execution_count": 11,
   "metadata": {
    "ExecuteTime": {
     "end_time": "2017-10-18T14:44:44.558173Z",
     "start_time": "2017-10-18T14:44:44.554162Z"
    },
    "run_control": {
     "frozen": false
    }
   },
   "outputs": [
    {
     "data": {
      "text/plain": [
       "array([  2.,   7.,  12.,  17.,  22.])"
      ]
     },
     "execution_count": 11,
     "metadata": {},
     "output_type": "execute_result"
    }
   ],
   "source": [
    "l1 = np.dot(l0, weights)\n",
    "l1"
   ]
  },
  {
   "cell_type": "code",
   "execution_count": 12,
   "metadata": {
    "ExecuteTime": {
     "end_time": "2017-10-18T14:44:44.563084Z",
     "start_time": "2017-10-18T14:44:44.559391Z"
    },
    "run_control": {
     "frozen": false
    }
   },
   "outputs": [
    {
     "data": {
      "text/plain": [
       "array([  3.71523716,   8.65231549,  15.13868297,  26.22822699,  32.75266183])"
      ]
     },
     "execution_count": 12,
     "metadata": {},
     "output_type": "execute_result"
    }
   ],
   "source": [
    "y"
   ]
  },
  {
   "cell_type": "code",
   "execution_count": 13,
   "metadata": {
    "ExecuteTime": {
     "end_time": "2017-10-18T14:44:44.568197Z",
     "start_time": "2017-10-18T14:44:44.564264Z"
    },
    "run_control": {
     "frozen": false
    }
   },
   "outputs": [
    {
     "data": {
      "text/plain": [
       "array([  1.71523716,   1.65231549,   3.13868297,   9.22822699,  10.75266183])"
      ]
     },
     "execution_count": 13,
     "metadata": {},
     "output_type": "execute_result"
    }
   ],
   "source": [
    "d = y - l1\n",
    "d"
   ]
  },
  {
   "cell_type": "code",
   "execution_count": 14,
   "metadata": {
    "ExecuteTime": {
     "end_time": "2017-10-18T14:44:44.572780Z",
     "start_time": "2017-10-18T14:44:44.569248Z"
    },
    "run_control": {
     "frozen": false
    }
   },
   "outputs": [
    {
     "data": {
      "text/plain": [
       "43.260685112603184"
      ]
     },
     "execution_count": 14,
     "metadata": {},
     "output_type": "execute_result"
    }
   ],
   "source": [
    "(d ** 2).mean()  # MSE"
   ]
  },
  {
   "cell_type": "code",
   "execution_count": 15,
   "metadata": {
    "ExecuteTime": {
     "end_time": "2017-10-18T14:44:44.576450Z",
     "start_time": "2017-10-18T14:44:44.573964Z"
    },
    "collapsed": true,
    "run_control": {
     "frozen": false
    }
   },
   "outputs": [],
   "source": [
    "alpha = 0.01  # learning rate"
   ]
  },
  {
   "cell_type": "code",
   "execution_count": 16,
   "metadata": {
    "ExecuteTime": {
     "end_time": "2017-10-18T14:44:44.581682Z",
     "start_time": "2017-10-18T14:44:44.577476Z"
    },
    "run_control": {
     "frozen": false
    }
   },
   "outputs": [
    {
     "data": {
      "text/plain": [
       "array([ 1.96562524,  0.26487124])"
      ]
     },
     "execution_count": 16,
     "metadata": {},
     "output_type": "execute_result"
    }
   ],
   "source": [
    "update = alpha * np.dot(d, l0)\n",
    "update"
   ]
  },
  {
   "cell_type": "code",
   "execution_count": 17,
   "metadata": {
    "ExecuteTime": {
     "end_time": "2017-10-18T14:44:44.585523Z",
     "start_time": "2017-10-18T14:44:44.582870Z"
    },
    "collapsed": true,
    "run_control": {
     "frozen": false
    }
   },
   "outputs": [],
   "source": [
    "weights += update  # updating weights"
   ]
  },
  {
   "cell_type": "code",
   "execution_count": 18,
   "metadata": {
    "ExecuteTime": {
     "end_time": "2017-10-18T14:44:44.590158Z",
     "start_time": "2017-10-18T14:44:44.586581Z"
    },
    "run_control": {
     "frozen": false
    }
   },
   "outputs": [
    {
     "data": {
      "text/plain": [
       "array([ 3.96562524,  2.26487124])"
      ]
     },
     "execution_count": 18,
     "metadata": {},
     "output_type": "execute_result"
    }
   ],
   "source": [
    "weights"
   ]
  },
  {
   "cell_type": "code",
   "execution_count": 19,
   "metadata": {
    "ExecuteTime": {
     "end_time": "2017-10-18T14:44:44.595824Z",
     "start_time": "2017-10-18T14:44:44.591241Z"
    },
    "run_control": {
     "frozen": false
    }
   },
   "outputs": [
    {
     "data": {
      "text/plain": [
       "36.071740396074709"
      ]
     },
     "execution_count": 19,
     "metadata": {},
     "output_type": "execute_result"
    }
   ],
   "source": [
    "l1 = np.dot(l0, weights)\n",
    "d = y - l1\n",
    "(d ** 2).mean()  # new MSE"
   ]
  },
  {
   "cell_type": "markdown",
   "metadata": {
    "run_control": {
     "frozen": false
    }
   },
   "source": [
    "### Network Training &mdash; Multi Step"
   ]
  },
  {
   "cell_type": "code",
   "execution_count": 20,
   "metadata": {
    "ExecuteTime": {
     "end_time": "2017-10-18T14:44:44.599333Z",
     "start_time": "2017-10-18T14:44:44.596875Z"
    },
    "collapsed": true,
    "run_control": {
     "frozen": false
    }
   },
   "outputs": [],
   "source": [
    "weights = np.array(((1., 100.)))"
   ]
  },
  {
   "cell_type": "code",
   "execution_count": 21,
   "metadata": {
    "ExecuteTime": {
     "end_time": "2017-10-18T14:44:44.610199Z",
     "start_time": "2017-10-18T14:44:44.600436Z"
    },
    "run_control": {
     "frozen": false
    }
   },
   "outputs": [
    {
     "name": "stdout",
     "output_type": "stream",
     "text": [
      "MSE after    0 iterations: 7745.09\n",
      "MSE after    5 iterations: 4409.26\n",
      "MSE after   10 iterations: 2911.00\n",
      "MSE after   15 iterations: 2150.88\n",
      "MSE after   20 iterations: 1702.11\n",
      "MSE after   25 iterations: 1396.69\n",
      "MSE after   30 iterations: 1166.53\n",
      "MSE after   35 iterations: 982.45\n",
      "MSE after   40 iterations: 830.62\n",
      "MSE after   45 iterations: 703.51\n",
      "MSE after   50 iterations: 596.38\n"
     ]
    }
   ],
   "source": [
    "for _ in range(51):\n",
    "    # layer 1\n",
    "    l1 = np.dot(l0, weights)\n",
    "\n",
    "    # deltas of layer 1\n",
    "    d = y - l1\n",
    "    \n",
    "    # print MSE\n",
    "    if _ % 5 == 0:\n",
    "        print('MSE after %4d iterations: %6.2f' % (_, (d ** 2).mean()))\n",
    "\n",
    "    # update weights based on deltas\n",
    "    weights += alpha * np.dot(d, l0)"
   ]
  },
  {
   "cell_type": "code",
   "execution_count": 22,
   "metadata": {
    "ExecuteTime": {
     "end_time": "2017-10-18T14:44:44.747667Z",
     "start_time": "2017-10-18T14:44:44.611345Z"
    },
    "run_control": {
     "frozen": false
    }
   },
   "outputs": [
    {
     "data": {
      "text/plain": [
       "[<matplotlib.lines.Line2D at 0x1125e7940>]"
      ]
     },
     "execution_count": 22,
     "metadata": {},
     "output_type": "execute_result"
    },
    {
     "data": {
      "image/png": "[encoded data removed]",
      "text/plain": [
       "<matplotlib.figure.Figure at 0x1124e22e8>"
      ]
     },
     "metadata": {},
     "output_type": "display_data"
    }
   ],
   "source": [
    "yr = np.polyval(reg, x)\n",
    "plt.plot(x, y, 'ro')\n",
    "plt.plot(x, yr, 'b')\n",
    "plt.plot(x, l1, 'm--')"
   ]
  },
  {
   "cell_type": "markdown",
   "metadata": {
    "run_control": {
     "frozen": false
    }
   },
   "source": [
    "## Neural Network for Classification"
   ]
  },
  {
   "cell_type": "markdown",
   "metadata": {
    "run_control": {
     "frozen": false
    }
   },
   "source": [
    "https://iamtrask.github.io/2015/07/12/basic-python-network/"
   ]
  },
  {
   "cell_type": "markdown",
   "metadata": {
    "run_control": {
     "frozen": false
    }
   },
   "source": [
    "### Sigmoid Function"
   ]
  },
  {
   "cell_type": "markdown",
   "metadata": {
    "run_control": {
     "frozen": false
    }
   },
   "source": [
    "https://en.wikipedia.org/wiki/Sigmoid_function"
   ]
  },
  {
   "cell_type": "code",
   "execution_count": 23,
   "metadata": {
    "ExecuteTime": {
     "end_time": "2017-10-18T14:44:44.752796Z",
     "start_time": "2017-10-18T14:44:44.749154Z"
    },
    "collapsed": true,
    "run_control": {
     "frozen": false
    }
   },
   "outputs": [],
   "source": [
    "# sigmoid function\n",
    "def sigmoid(x, deriv=False):\n",
    "    if deriv == True:\n",
    "        return sigmoid(x) * (1 - sigmoid(x))\n",
    "    return 1 / (1 + np.exp(-x))"
   ]
  },
  {
   "cell_type": "code",
   "execution_count": 24,
   "metadata": {
    "ExecuteTime": {
     "end_time": "2017-10-18T14:44:44.759985Z",
     "start_time": "2017-10-18T14:44:44.753959Z"
    },
    "collapsed": true,
    "run_control": {
     "frozen": false
    }
   },
   "outputs": [],
   "source": [
    "x = np.linspace(-10, 10, 250)\n",
    "y = sigmoid(x)\n",
    "d = sigmoid(x, deriv=True)"
   ]
  },
  {
   "cell_type": "code",
   "execution_count": 25,
   "metadata": {
    "ExecuteTime": {
     "end_time": "2017-10-18T14:44:44.764243Z",
     "start_time": "2017-10-18T14:44:44.761436Z"
    },
    "collapsed": true,
    "run_control": {
     "frozen": false
    }
   },
   "outputs": [],
   "source": [
    "s = np.where(x > 0, 1, 0)"
   ]
  },
  {
   "cell_type": "code",
   "execution_count": 26,
   "metadata": {
    "ExecuteTime": {
     "end_time": "2017-10-18T14:44:45.072165Z",
     "start_time": "2017-10-18T14:44:44.765380Z"
    },
    "run_control": {
     "frozen": false
    }
   },
   "outputs": [
    {
     "data": {
      "image/png": "[encoded data removed]",
      "text/plain": [
       "<matplotlib.figure.Figure at 0x1125a8470>"
      ]
     },
     "metadata": {},
     "output_type": "display_data"
    }
   ],
   "source": [
    "fig, ax = plt.subplots(2, sharex=True, figsize=(10, 8))\n",
    "ax[0].plot(x, y, 'b')\n",
    "ax[0].plot(x, s, 'm--')\n",
    "\n",
    "ax[1].plot(x, d, 'g');"
   ]
  },
  {
   "cell_type": "markdown",
   "metadata": {
    "run_control": {
     "frozen": false
    }
   },
   "source": [
    "### The Data"
   ]
  },
  {
   "cell_type": "code",
   "execution_count": 27,
   "metadata": {
    "ExecuteTime": {
     "end_time": "2017-10-18T14:44:45.077962Z",
     "start_time": "2017-10-18T14:44:45.073765Z"
    },
    "collapsed": true,
    "run_control": {
     "frozen": false
    }
   },
   "outputs": [],
   "source": [
    "# input dataset (features)\n",
    "# layer 0\n",
    "l0 = np.array([[0, 0, 1],\n",
    "               [0, 1, 1],\n",
    "               [1, 0, 1],\n",
    "               [1, 1, 1] ])"
   ]
  },
  {
   "cell_type": "code",
   "execution_count": 28,
   "metadata": {
    "ExecuteTime": {
     "end_time": "2017-10-18T14:44:45.085501Z",
     "start_time": "2017-10-18T14:44:45.079373Z"
    },
    "collapsed": true,
    "run_control": {
     "frozen": false
    }
   },
   "outputs": [],
   "source": [
    "# output dataset (labels)          \n",
    "y = np.array([[0,\n",
    "               0,\n",
    "               1,\n",
    "               1]]).T"
   ]
  },
  {
   "cell_type": "markdown",
   "metadata": {
    "run_control": {
     "frozen": false
    }
   },
   "source": [
    "### Single Step"
   ]
  },
  {
   "cell_type": "code",
   "execution_count": 29,
   "metadata": {
    "ExecuteTime": {
     "end_time": "2017-10-18T14:44:45.092241Z",
     "start_time": "2017-10-18T14:44:45.087656Z"
    },
    "run_control": {
     "frozen": false
    }
   },
   "outputs": [
    {
     "data": {
      "text/plain": [
       "array([[-0.16595599],\n",
       "       [ 0.44064899],\n",
       "       [-0.99977125]])"
      ]
     },
     "execution_count": 29,
     "metadata": {},
     "output_type": "execute_result"
    }
   ],
   "source": [
    "# initialize weights randomly with mean 0\n",
    "np.random.seed(1)\n",
    "weights = 2 * np.random.random((3, 1)) - 1\n",
    "weights"
   ]
  },
  {
   "cell_type": "code",
   "execution_count": 30,
   "metadata": {
    "ExecuteTime": {
     "end_time": "2017-10-18T14:44:45.096801Z",
     "start_time": "2017-10-18T14:44:45.093373Z"
    },
    "run_control": {
     "frozen": false
    }
   },
   "outputs": [
    {
     "data": {
      "text/plain": [
       "array([[-0.99977125],\n",
       "       [-0.55912226],\n",
       "       [-1.16572724],\n",
       "       [-0.72507825]])"
      ]
     },
     "execution_count": 30,
     "metadata": {},
     "output_type": "execute_result"
    }
   ],
   "source": [
    "np.dot(l0, weights)"
   ]
  },
  {
   "cell_type": "code",
   "execution_count": 31,
   "metadata": {
    "ExecuteTime": {
     "end_time": "2017-10-18T14:44:45.102019Z",
     "start_time": "2017-10-18T14:44:45.098030Z"
    },
    "run_control": {
     "frozen": false
    }
   },
   "outputs": [
    {
     "data": {
      "text/plain": [
       "array([[ 0.2689864 ],\n",
       "       [ 0.36375058],\n",
       "       [ 0.23762817],\n",
       "       [ 0.3262757 ]])"
      ]
     },
     "execution_count": 31,
     "metadata": {},
     "output_type": "execute_result"
    }
   ],
   "source": [
    "l1 = sigmoid(np.dot(l0, weights))\n",
    "l1"
   ]
  },
  {
   "cell_type": "code",
   "execution_count": 32,
   "metadata": {
    "ExecuteTime": {
     "end_time": "2017-10-18T14:44:45.107504Z",
     "start_time": "2017-10-18T14:44:45.103475Z"
    },
    "run_control": {
     "frozen": false
    }
   },
   "outputs": [
    {
     "data": {
      "text/plain": [
       "array([[-0.2689864 ],\n",
       "       [-0.36375058],\n",
       "       [ 0.76237183],\n",
       "       [ 0.6737243 ]])"
      ]
     },
     "execution_count": 32,
     "metadata": {},
     "output_type": "execute_result"
    }
   ],
   "source": [
    "e = y - l1\n",
    "e"
   ]
  },
  {
   "cell_type": "code",
   "execution_count": 33,
   "metadata": {
    "ExecuteTime": {
     "end_time": "2017-10-18T14:44:45.112455Z",
     "start_time": "2017-10-18T14:44:45.108844Z"
    },
    "run_control": {
     "frozen": false
    }
   },
   "outputs": [
    {
     "data": {
      "text/plain": [
       "0.30994584990928159"
      ]
     },
     "execution_count": 33,
     "metadata": {},
     "output_type": "execute_result"
    }
   ],
   "source": [
    "(e ** 2).mean()"
   ]
  },
  {
   "cell_type": "code",
   "execution_count": 34,
   "metadata": {
    "ExecuteTime": {
     "end_time": "2017-10-18T14:44:45.117100Z",
     "start_time": "2017-10-18T14:44:45.113632Z"
    },
    "run_control": {
     "frozen": false
    }
   },
   "outputs": [
    {
     "data": {
      "text/plain": [
       "array([[ 0.24553187],\n",
       "       [ 0.24190935],\n",
       "       [ 0.24650375],\n",
       "       [ 0.24346281]])"
      ]
     },
     "execution_count": 34,
     "metadata": {},
     "output_type": "execute_result"
    }
   ],
   "source": [
    "sigmoid(l1, True)"
   ]
  },
  {
   "cell_type": "code",
   "execution_count": 35,
   "metadata": {
    "ExecuteTime": {
     "end_time": "2017-10-18T14:44:45.122549Z",
     "start_time": "2017-10-18T14:44:45.118240Z"
    },
    "run_control": {
     "frozen": false
    }
   },
   "outputs": [
    {
     "data": {
      "text/plain": [
       "array([[-0.06604473],\n",
       "       [-0.08799467],\n",
       "       [ 0.18792752],\n",
       "       [ 0.16402681]])"
      ]
     },
     "execution_count": 35,
     "metadata": {},
     "output_type": "execute_result"
    }
   ],
   "source": [
    "d = e * sigmoid(l1, True)\n",
    "d"
   ]
  },
  {
   "cell_type": "code",
   "execution_count": 36,
   "metadata": {
    "ExecuteTime": {
     "end_time": "2017-10-18T14:44:45.128614Z",
     "start_time": "2017-10-18T14:44:45.123950Z"
    },
    "run_control": {
     "frozen": false
    }
   },
   "outputs": [
    {
     "data": {
      "text/plain": [
       "array([[ 0.35195432],\n",
       "       [ 0.07603214],\n",
       "       [ 0.19791493]])"
      ]
     },
     "execution_count": 36,
     "metadata": {},
     "output_type": "execute_result"
    }
   ],
   "source": [
    "u = np.dot(l0.T, d)\n",
    "u"
   ]
  },
  {
   "cell_type": "code",
   "execution_count": 37,
   "metadata": {
    "ExecuteTime": {
     "end_time": "2017-10-18T14:44:45.134068Z",
     "start_time": "2017-10-18T14:44:45.130071Z"
    },
    "run_control": {
     "frozen": false
    }
   },
   "outputs": [
    {
     "data": {
      "text/plain": [
       "array([[ 0.18599833],\n",
       "       [ 0.51668113],\n",
       "       [-0.80185633]])"
      ]
     },
     "execution_count": 37,
     "metadata": {},
     "output_type": "execute_result"
    }
   ],
   "source": [
    "weights += u\n",
    "weights"
   ]
  },
  {
   "cell_type": "code",
   "execution_count": 38,
   "metadata": {
    "ExecuteTime": {
     "end_time": "2017-10-18T14:44:45.140223Z",
     "start_time": "2017-10-18T14:44:45.135307Z"
    },
    "run_control": {
     "frozen": false
    }
   },
   "outputs": [
    {
     "data": {
      "text/plain": [
       "0.24425422705654065"
      ]
     },
     "execution_count": 38,
     "metadata": {},
     "output_type": "execute_result"
    }
   ],
   "source": [
    "l1 = sigmoid(np.dot(l0, weights))\n",
    "e = y - l1\n",
    "(e ** 2).mean()"
   ]
  },
  {
   "cell_type": "markdown",
   "metadata": {
    "run_control": {
     "frozen": false
    }
   },
   "source": [
    "### Multiple Steps"
   ]
  },
  {
   "cell_type": "code",
   "execution_count": 39,
   "metadata": {
    "ExecuteTime": {
     "end_time": "2017-10-18T14:44:45.147043Z",
     "start_time": "2017-10-18T14:44:45.141663Z"
    },
    "run_control": {
     "frozen": false
    }
   },
   "outputs": [
    {
     "data": {
      "text/plain": [
       "array([[-0.16595599],\n",
       "       [ 0.44064899],\n",
       "       [-0.99977125]])"
      ]
     },
     "execution_count": 39,
     "metadata": {},
     "output_type": "execute_result"
    }
   ],
   "source": [
    "# initialize weights randomly with mean 0\n",
    "np.random.seed(1)\n",
    "weights = 2 * np.random.random((3, 1)) - 1\n",
    "weights"
   ]
  },
  {
   "cell_type": "code",
   "execution_count": 40,
   "metadata": {
    "ExecuteTime": {
     "end_time": "2017-10-18T14:44:45.194027Z",
     "start_time": "2017-10-18T14:44:45.148398Z"
    },
    "run_control": {
     "frozen": false
    }
   },
   "outputs": [
    {
     "name": "stdout",
     "output_type": "stream",
     "text": [
      "\n",
      "after 0 iterations\n",
      "layer 1: [[ 0.2689864   0.36375058  0.23762817  0.3262757 ]]\n",
      "errors:  [[-0.2689864  -0.36375058  0.76237183  0.6737243 ]]\n",
      "MSE:     0.309945849909\n",
      "\n",
      "after 200 iterations\n",
      "layer 1: [[ 0.03581881  0.02486184  0.97910131  0.96983694]]\n",
      "errors:  [[-0.03581881 -0.02486184  0.02089869  0.03016306]]\n",
      "MSE:     0.000811915861218\n",
      "\n",
      "after 400 iterations\n",
      "layer 1: [[ 0.01812805  0.01228468  0.98963848  0.98469571]]\n",
      "errors:  [[-0.01812805 -0.01228468  0.01036152  0.01530429]]\n",
      "MSE:     0.000205280470873\n",
      "\n",
      "after 600 iterations\n",
      "layer 1: [[ 0.01210241  0.00814395  0.99312159  0.98977191]]\n",
      "errors:  [[-0.01210241 -0.00814395  0.00687841  0.01022809]]\n",
      "MSE:     9.11796267574e-05\n",
      "\n",
      "after 800 iterations\n",
      "layer 1: [[ 0.00907573  0.00608783  0.99485433  0.99232527]]\n",
      "errors:  [[-0.00907573 -0.00608783  0.00514567  0.00767473]]\n",
      "MSE:     5.1202496537e-05\n",
      "\n",
      "after 1000 iterations\n",
      "layer 1: [[ 0.00725744  0.00485959  0.99589051  0.9938605 ]]\n",
      "errors:  [[-0.00725744 -0.00485959  0.00410949  0.0061395 ]]\n",
      "MSE:     3.27168767611e-05\n"
     ]
    }
   ],
   "source": [
    "for _ in range(1001):\n",
    "    # forward propagation\n",
    "    # layer 1\n",
    "    l1 = sigmoid(np.dot(l0, weights))\n",
    "\n",
    "    # errors of layer 1\n",
    "    e = y - l1\n",
    "    if _ % 200 == 0:\n",
    "        print('\\nafter %d iterations' % _)\n",
    "        print('layer 1:', l1.T)\n",
    "        print('errors: ', e.T)\n",
    "        print('MSE:    ', (e ** 2).mean())\n",
    "\n",
    "    # multiply errors by the slope of the \n",
    "    # sigmoid at the values in l1\n",
    "    d = e * sigmoid(l1, True)\n",
    "\n",
    "    # update weights\n",
    "    weights += np.dot(l0.T, d)"
   ]
  },
  {
   "cell_type": "markdown",
   "metadata": {
    "run_control": {
     "frozen": false
    }
   },
   "source": [
    "<img src=\"http://hilpisch.com/tpq_logo.png\" width=350px align=\"right\">"
   ]
  }
 ],
 "metadata": {
  "kernelspec": {
   "display_name": "Python 3",
   "language": "python",
   "name": "python3"
  },
  "language_info": {
   "codemirror_mode": {
    "name": "ipython",
    "version": 3
   },
   "file_extension": ".py",
   "mimetype": "text/x-python",
   "name": "python",
   "nbconvert_exporter": "python",
   "pygments_lexer": "ipython3",
   "version": "3.6.1"
  }
 },
 "nbformat": 4,
 "nbformat_minor": 2
}
