{
 "cells": [
  {
   "cell_type": "markdown",
   "metadata": {
    "run_control": {
     "frozen": false
    }
   },
   "source": [
    "<img src=\"http://hilpisch.com/tpq_logo.png\" alt=\"The Python Quants\" width=\"35%\" align=\"right\" border=\"0\"><br>"
   ]
  },
  {
   "cell_type": "markdown",
   "metadata": {
    "run_control": {
     "frozen": false
    }
   },
   "source": [
    "# Algorithmic Trading\n",
    "\n",
    "## With Machine & Deep Learning"
   ]
  },
  {
   "cell_type": "markdown",
   "metadata": {
    "run_control": {
     "frozen": false
    }
   },
   "source": [
    "**Market Prediction with Simple Neural Network**\n",
    "\n",
    "**_ODSC Europe 2017_**\n",
    "\n",
    "Dr. Yves J. Hilpisch\n",
    "\n",
    "The Python Quants GmbH\n",
    "\n",
    "**12. October 2017**"
   ]
  },
  {
   "cell_type": "markdown",
   "metadata": {
    "run_control": {
     "frozen": false
    }
   },
   "source": [
    "<img src=\"http://hilpisch.com/images/finaince_visual_low.png\" width=50% align=left>"
   ]
  },
  {
   "cell_type": "markdown",
   "metadata": {
    "run_control": {
     "frozen": false
    }
   },
   "source": [
    "## The Imports"
   ]
  },
  {
   "cell_type": "code",
   "execution_count": 1,
   "metadata": {
    "ExecuteTime": {
     "end_time": "2017-10-18T15:35:06.627232Z",
     "start_time": "2017-10-18T15:35:06.074031Z"
    },
    "run_control": {
     "frozen": false
    }
   },
   "outputs": [],
   "source": [
    "import numpy as np\n",
    "import pandas as pd\n",
    "from pylab import plt\n",
    "plt.style.use('seaborn')\n",
    "from pandas_datareader import data as web\n",
    "%matplotlib inline"
   ]
  },
  {
   "cell_type": "code",
   "execution_count": 2,
   "metadata": {
    "ExecuteTime": {
     "end_time": "2017-10-18T15:35:06.633691Z",
     "start_time": "2017-10-18T15:35:06.628527Z"
    }
   },
   "outputs": [
    {
     "name": "stdout",
     "output_type": "stream",
     "text": [
      "Please note the Google Finance URL used is: http://finance.google.com/finance/historical\n",
      "This might be wrong as the URL changed September 2017, as per the discussion at https://github.com/pydata/pandas-datareader/issues/391\n",
      "Until the fixed URL is built into the library, it can be modified manually in `google/daily.py`\n",
      "In any case, note that not all data is available via that feed, which is why the `h5` file is provided.\n"
     ]
    }
   ],
   "source": [
    "print(\"Please note the Google Finance URL used is: {}\".format(web.GoogleDailyReader().url))\n",
    "print(\"This might be wrong as the URL changed September 2017, as per the discussion\",\n",
    "      \"at https://github.com/pydata/pandas-datareader/issues/391\")\n",
    "print(\"Until the fixed URL is built into the library, it can be modified manually in `google/daily.py`\")\n",
    "print(\"In any case, note that not all data is available via that feed, which is why the `h5` file is provided.\")"
   ]
  },
  {
   "cell_type": "markdown",
   "metadata": {
    "run_control": {
     "frozen": false
    }
   },
   "source": [
    "## Raw Data & Features"
   ]
  },
  {
   "cell_type": "code",
   "execution_count": 3,
   "metadata": {
    "ExecuteTime": {
     "end_time": "2017-10-18T15:35:06.663651Z",
     "start_time": "2017-10-18T15:35:06.635061Z"
    },
    "run_control": {
     "frozen": false
    }
   },
   "outputs": [],
   "source": [
    "h5 = pd.HDFStore('../data/equities.h5', 'r')"
   ]
  },
  {
   "cell_type": "code",
   "execution_count": 4,
   "metadata": {
    "ExecuteTime": {
     "end_time": "2017-10-18T15:35:06.673202Z",
     "start_time": "2017-10-18T15:35:06.665344Z"
    },
    "run_control": {
     "frozen": false
    }
   },
   "outputs": [],
   "source": [
    "df = h5['data']"
   ]
  },
  {
   "cell_type": "code",
   "execution_count": 5,
   "metadata": {
    "ExecuteTime": {
     "end_time": "2017-10-18T15:35:06.677984Z",
     "start_time": "2017-10-18T15:35:06.674857Z"
    },
    "run_control": {
     "frozen": false
    }
   },
   "outputs": [],
   "source": [
    "h5.close()"
   ]
  },
  {
   "cell_type": "code",
   "execution_count": 6,
   "metadata": {
    "ExecuteTime": {
     "end_time": "2017-10-18T15:35:06.685494Z",
     "start_time": "2017-10-18T15:35:06.679093Z"
    },
    "run_control": {
     "frozen": false
    }
   },
   "outputs": [
    {
     "name": "stdout",
     "output_type": "stream",
     "text": [
      "<class 'pandas.core.frame.DataFrame'>\n",
      "DatetimeIndex: 4351 entries, 2000-01-03 to 2017-04-19\n",
      "Data columns (total 7 columns):\n",
      "AAPL      4351 non-null float64\n",
      "MSFT      4351 non-null float64\n",
      "YHOO      4351 non-null float64\n",
      "^GDAXI    4297 non-null float64\n",
      "^GSPC     4351 non-null float64\n",
      "^VIX      4351 non-null float64\n",
      "^SSMI     4274 non-null float64\n",
      "dtypes: float64(7)\n",
      "memory usage: 271.9 KB\n"
     ]
    }
   ],
   "source": [
    "df.info()"
   ]
  },
  {
   "cell_type": "code",
   "execution_count": 7,
   "metadata": {
    "ExecuteTime": {
     "end_time": "2017-10-18T15:35:06.689666Z",
     "start_time": "2017-10-18T15:35:06.687046Z"
    },
    "run_control": {
     "frozen": false
    }
   },
   "outputs": [],
   "source": [
    "raw = pd.DataFrame(df['^GDAXI'])"
   ]
  },
  {
   "cell_type": "code",
   "execution_count": 44,
   "metadata": {
    "ExecuteTime": {
     "end_time": "2017-10-18T15:20:53.526900Z",
     "start_time": "2017-10-18T15:20:53.190448Z"
    },
    "editable": false,
    "run_control": {
     "frozen": true
    }
   },
   "outputs": [],
   "source": [
    "# This has some issues due to the September 2017 Google Finance changes\n",
    "raw = pd.DataFrame(web.DataReader('DAX', data_source='google')['Close'])"
   ]
  },
  {
   "cell_type": "code",
   "execution_count": 8,
   "metadata": {
    "ExecuteTime": {
     "end_time": "2017-10-18T15:35:06.693266Z",
     "start_time": "2017-10-18T15:35:06.690839Z"
    },
    "run_control": {
     "frozen": false
    }
   },
   "outputs": [],
   "source": [
    "raw.columns = ['prices']"
   ]
  },
  {
   "cell_type": "code",
   "execution_count": 9,
   "metadata": {
    "ExecuteTime": {
     "end_time": "2017-10-18T15:35:06.990460Z",
     "start_time": "2017-10-18T15:35:06.694382Z"
    },
    "run_control": {
     "frozen": false
    }
   },
   "outputs": [
    {
     "data": {
      "image/png": "[encoded data removed]",
      "text/plain": [
       "<matplotlib.figure.Figure at 0x1144a65f8>"
      ]
     },
     "metadata": {},
     "output_type": "display_data"
    }
   ],
   "source": [
    "raw.plot(figsize=(10, 6));"
   ]
  },
  {
   "cell_type": "code",
   "execution_count": 10,
   "metadata": {
    "ExecuteTime": {
     "end_time": "2017-10-18T15:35:07.002651Z",
     "start_time": "2017-10-18T15:35:06.992147Z"
    },
    "collapsed": true,
    "run_control": {
     "frozen": false
    }
   },
   "outputs": [],
   "source": [
    "raw['log_rets'] = np.log(raw['prices'] / raw['prices'].shift(1))\n",
    "raw.dropna(inplace=True)\n",
    "raw['returns'] = np.where(raw['log_rets'] > 0, 1, 0)"
   ]
  },
  {
   "cell_type": "code",
   "execution_count": 11,
   "metadata": {
    "ExecuteTime": {
     "end_time": "2017-10-18T15:35:07.008465Z",
     "start_time": "2017-10-18T15:35:07.004373Z"
    },
    "collapsed": true,
    "run_control": {
     "frozen": false
    }
   },
   "outputs": [],
   "source": [
    "lags = 3"
   ]
  },
  {
   "cell_type": "code",
   "execution_count": 12,
   "metadata": {
    "ExecuteTime": {
     "end_time": "2017-10-18T15:35:07.016361Z",
     "start_time": "2017-10-18T15:35:07.009995Z"
    },
    "collapsed": true,
    "run_control": {
     "frozen": false
    }
   },
   "outputs": [],
   "source": [
    "cols = []\n",
    "for lag in range(1, lags+1):\n",
    "    col = 'lag_%d' % lag\n",
    "    raw[col] = raw['log_rets'].shift(lag)\n",
    "    cols.append(col)"
   ]
  },
  {
   "cell_type": "code",
   "execution_count": 13,
   "metadata": {
    "ExecuteTime": {
     "end_time": "2017-10-18T15:35:07.024396Z",
     "start_time": "2017-10-18T15:35:07.017889Z"
    },
    "collapsed": true,
    "run_control": {
     "frozen": false
    }
   },
   "outputs": [],
   "source": [
    "raw['SMA'] = raw['prices'].rolling(10).mean()\n",
    "raw['trend'] = ((raw['prices'] - raw['SMA']) > 0).astype(int).shift(1)"
   ]
  },
  {
   "cell_type": "code",
   "execution_count": 14,
   "metadata": {
    "ExecuteTime": {
     "end_time": "2017-10-18T15:35:07.037706Z",
     "start_time": "2017-10-18T15:35:07.025794Z"
    },
    "run_control": {
     "frozen": false
    }
   },
   "outputs": [
    {
     "data": {
      "text/html": [
       "<div>\n",
       "<style>\n",
       "    .dataframe thead tr:only-child th {\n",
       "        text-align: right;\n",
       "    }\n",
       "\n",
       "    .dataframe thead th {\n",
       "        text-align: left;\n",
       "    }\n",
       "\n",
       "    .dataframe tbody tr th {\n",
       "        vertical-align: top;\n",
       "    }\n",
       "</style>\n",
       "<table border=\"1\" class=\"dataframe\">\n",
       "  <thead>\n",
       "    <tr style=\"text-align: right;\">\n",
       "      <th></th>\n",
       "      <th>prices</th>\n",
       "      <th>log_rets</th>\n",
       "      <th>returns</th>\n",
       "      <th>lag_1</th>\n",
       "      <th>lag_2</th>\n",
       "      <th>lag_3</th>\n",
       "      <th>SMA</th>\n",
       "      <th>trend</th>\n",
       "    </tr>\n",
       "    <tr>\n",
       "      <th>Date</th>\n",
       "      <th></th>\n",
       "      <th></th>\n",
       "      <th></th>\n",
       "      <th></th>\n",
       "      <th></th>\n",
       "      <th></th>\n",
       "      <th></th>\n",
       "      <th></th>\n",
       "    </tr>\n",
       "  </thead>\n",
       "  <tbody>\n",
       "    <tr>\n",
       "      <th>2000-01-04</th>\n",
       "      <td>6586.950195</td>\n",
       "      <td>-0.024565</td>\n",
       "      <td>0</td>\n",
       "      <td>NaN</td>\n",
       "      <td>NaN</td>\n",
       "      <td>NaN</td>\n",
       "      <td>NaN</td>\n",
       "      <td>NaN</td>\n",
       "    </tr>\n",
       "    <tr>\n",
       "      <th>2000-01-05</th>\n",
       "      <td>6502.069824</td>\n",
       "      <td>-0.012970</td>\n",
       "      <td>0</td>\n",
       "      <td>-0.024565</td>\n",
       "      <td>NaN</td>\n",
       "      <td>NaN</td>\n",
       "      <td>NaN</td>\n",
       "      <td>0.0</td>\n",
       "    </tr>\n",
       "    <tr>\n",
       "      <th>2000-01-06</th>\n",
       "      <td>6474.919922</td>\n",
       "      <td>-0.004184</td>\n",
       "      <td>0</td>\n",
       "      <td>-0.012970</td>\n",
       "      <td>-0.024565</td>\n",
       "      <td>NaN</td>\n",
       "      <td>NaN</td>\n",
       "      <td>0.0</td>\n",
       "    </tr>\n",
       "    <tr>\n",
       "      <th>2000-01-07</th>\n",
       "      <td>6780.959961</td>\n",
       "      <td>0.046182</td>\n",
       "      <td>1</td>\n",
       "      <td>-0.004184</td>\n",
       "      <td>-0.012970</td>\n",
       "      <td>-0.024565</td>\n",
       "      <td>NaN</td>\n",
       "      <td>0.0</td>\n",
       "    </tr>\n",
       "    <tr>\n",
       "      <th>2000-01-10</th>\n",
       "      <td>6925.520020</td>\n",
       "      <td>0.021094</td>\n",
       "      <td>1</td>\n",
       "      <td>0.046182</td>\n",
       "      <td>-0.004184</td>\n",
       "      <td>-0.012970</td>\n",
       "      <td>NaN</td>\n",
       "      <td>0.0</td>\n",
       "    </tr>\n",
       "  </tbody>\n",
       "</table>\n",
       "</div>"
      ],
      "text/plain": [
       "                 prices  log_rets  returns     lag_1     lag_2     lag_3  SMA  \\\n",
       "Date                                                                            \n",
       "2000-01-04  6586.950195 -0.024565        0       NaN       NaN       NaN  NaN   \n",
       "2000-01-05  6502.069824 -0.012970        0 -0.024565       NaN       NaN  NaN   \n",
       "2000-01-06  6474.919922 -0.004184        0 -0.012970 -0.024565       NaN  NaN   \n",
       "2000-01-07  6780.959961  0.046182        1 -0.004184 -0.012970 -0.024565  NaN   \n",
       "2000-01-10  6925.520020  0.021094        1  0.046182 -0.004184 -0.012970  NaN   \n",
       "\n",
       "            trend  \n",
       "Date               \n",
       "2000-01-04    NaN  \n",
       "2000-01-05    0.0  \n",
       "2000-01-06    0.0  \n",
       "2000-01-07    0.0  \n",
       "2000-01-10    0.0  "
      ]
     },
     "execution_count": 14,
     "metadata": {},
     "output_type": "execute_result"
    }
   ],
   "source": [
    "raw.head()"
   ]
  },
  {
   "cell_type": "code",
   "execution_count": 15,
   "metadata": {
    "ExecuteTime": {
     "end_time": "2017-10-18T15:35:07.041810Z",
     "start_time": "2017-10-18T15:35:07.038858Z"
    },
    "collapsed": true,
    "run_control": {
     "frozen": false
    }
   },
   "outputs": [],
   "source": [
    "mean = raw['log_rets'].mean()\n",
    "std = raw['log_rets'].std()"
   ]
  },
  {
   "cell_type": "code",
   "execution_count": 16,
   "metadata": {
    "ExecuteTime": {
     "end_time": "2017-10-18T15:35:07.046710Z",
     "start_time": "2017-10-18T15:35:07.042913Z"
    },
    "collapsed": true,
    "run_control": {
     "frozen": false
    }
   },
   "outputs": [],
   "source": [
    "def buckets(x):\n",
    "    bounds = [mean-std, 0, mean, mean+std]\n",
    "    for i, b in enumerate(sorted(bounds)):\n",
    "        if x < b: return i\n",
    "    else: return i + 1"
   ]
  },
  {
   "cell_type": "code",
   "execution_count": 17,
   "metadata": {
    "ExecuteTime": {
     "end_time": "2017-10-18T15:35:07.076135Z",
     "start_time": "2017-10-18T15:35:07.047878Z"
    },
    "collapsed": true,
    "run_control": {
     "frozen": false
    }
   },
   "outputs": [],
   "source": [
    "for _ in cols:\n",
    "    raw[_] = raw[_].apply(buckets)"
   ]
  },
  {
   "cell_type": "code",
   "execution_count": 18,
   "metadata": {
    "ExecuteTime": {
     "end_time": "2017-10-18T15:35:07.080158Z",
     "start_time": "2017-10-18T15:35:07.077699Z"
    },
    "collapsed": true,
    "run_control": {
     "frozen": false
    }
   },
   "outputs": [],
   "source": [
    "cols.append('trend')\n",
    "lags +=1"
   ]
  },
  {
   "cell_type": "code",
   "execution_count": 19,
   "metadata": {
    "ExecuteTime": {
     "end_time": "2017-10-18T15:35:07.091836Z",
     "start_time": "2017-10-18T15:35:07.081336Z"
    },
    "run_control": {
     "frozen": false
    }
   },
   "outputs": [
    {
     "data": {
      "text/html": [
       "<div>\n",
       "<style>\n",
       "    .dataframe thead tr:only-child th {\n",
       "        text-align: right;\n",
       "    }\n",
       "\n",
       "    .dataframe thead th {\n",
       "        text-align: left;\n",
       "    }\n",
       "\n",
       "    .dataframe tbody tr th {\n",
       "        vertical-align: top;\n",
       "    }\n",
       "</style>\n",
       "<table border=\"1\" class=\"dataframe\">\n",
       "  <thead>\n",
       "    <tr style=\"text-align: right;\">\n",
       "      <th></th>\n",
       "      <th>prices</th>\n",
       "      <th>log_rets</th>\n",
       "      <th>returns</th>\n",
       "      <th>lag_1</th>\n",
       "      <th>lag_2</th>\n",
       "      <th>lag_3</th>\n",
       "      <th>SMA</th>\n",
       "      <th>trend</th>\n",
       "    </tr>\n",
       "    <tr>\n",
       "      <th>Date</th>\n",
       "      <th></th>\n",
       "      <th></th>\n",
       "      <th></th>\n",
       "      <th></th>\n",
       "      <th></th>\n",
       "      <th></th>\n",
       "      <th></th>\n",
       "      <th></th>\n",
       "    </tr>\n",
       "  </thead>\n",
       "  <tbody>\n",
       "    <tr>\n",
       "      <th>2000-01-04</th>\n",
       "      <td>6586.950195</td>\n",
       "      <td>-0.024565</td>\n",
       "      <td>0</td>\n",
       "      <td>4</td>\n",
       "      <td>4</td>\n",
       "      <td>4</td>\n",
       "      <td>NaN</td>\n",
       "      <td>NaN</td>\n",
       "    </tr>\n",
       "    <tr>\n",
       "      <th>2000-01-05</th>\n",
       "      <td>6502.069824</td>\n",
       "      <td>-0.012970</td>\n",
       "      <td>0</td>\n",
       "      <td>0</td>\n",
       "      <td>4</td>\n",
       "      <td>4</td>\n",
       "      <td>NaN</td>\n",
       "      <td>0.0</td>\n",
       "    </tr>\n",
       "    <tr>\n",
       "      <th>2000-01-06</th>\n",
       "      <td>6474.919922</td>\n",
       "      <td>-0.004184</td>\n",
       "      <td>0</td>\n",
       "      <td>1</td>\n",
       "      <td>0</td>\n",
       "      <td>4</td>\n",
       "      <td>NaN</td>\n",
       "      <td>0.0</td>\n",
       "    </tr>\n",
       "    <tr>\n",
       "      <th>2000-01-07</th>\n",
       "      <td>6780.959961</td>\n",
       "      <td>0.046182</td>\n",
       "      <td>1</td>\n",
       "      <td>1</td>\n",
       "      <td>1</td>\n",
       "      <td>0</td>\n",
       "      <td>NaN</td>\n",
       "      <td>0.0</td>\n",
       "    </tr>\n",
       "    <tr>\n",
       "      <th>2000-01-10</th>\n",
       "      <td>6925.520020</td>\n",
       "      <td>0.021094</td>\n",
       "      <td>1</td>\n",
       "      <td>4</td>\n",
       "      <td>1</td>\n",
       "      <td>1</td>\n",
       "      <td>NaN</td>\n",
       "      <td>0.0</td>\n",
       "    </tr>\n",
       "  </tbody>\n",
       "</table>\n",
       "</div>"
      ],
      "text/plain": [
       "                 prices  log_rets  returns  lag_1  lag_2  lag_3  SMA  trend\n",
       "Date                                                                       \n",
       "2000-01-04  6586.950195 -0.024565        0      4      4      4  NaN    NaN\n",
       "2000-01-05  6502.069824 -0.012970        0      0      4      4  NaN    0.0\n",
       "2000-01-06  6474.919922 -0.004184        0      1      0      4  NaN    0.0\n",
       "2000-01-07  6780.959961  0.046182        1      1      1      0  NaN    0.0\n",
       "2000-01-10  6925.520020  0.021094        1      4      1      1  NaN    0.0"
      ]
     },
     "execution_count": 19,
     "metadata": {},
     "output_type": "execute_result"
    }
   ],
   "source": [
    "raw.head()"
   ]
  },
  {
   "cell_type": "markdown",
   "metadata": {
    "run_control": {
     "frozen": false
    }
   },
   "source": [
    "<img src=\"http://hilpisch.com/images/finaince_logo.png\" width=300px align=left>"
   ]
  },
  {
   "cell_type": "markdown",
   "metadata": {
    "run_control": {
     "frozen": false
    }
   },
   "source": [
    "## Neural Network Training &mdash; Small Data Set"
   ]
  },
  {
   "cell_type": "code",
   "execution_count": 20,
   "metadata": {
    "ExecuteTime": {
     "end_time": "2017-10-18T15:35:07.097994Z",
     "start_time": "2017-10-18T15:35:07.092998Z"
    },
    "run_control": {
     "frozen": false
    }
   },
   "outputs": [],
   "source": [
    "data = raw.dropna().iloc[-10:].copy()"
   ]
  },
  {
   "cell_type": "code",
   "execution_count": 21,
   "metadata": {
    "ExecuteTime": {
     "end_time": "2017-10-18T15:35:07.110619Z",
     "start_time": "2017-10-18T15:35:07.099142Z"
    },
    "run_control": {
     "frozen": false
    }
   },
   "outputs": [
    {
     "data": {
      "text/html": [
       "<div>\n",
       "<style>\n",
       "    .dataframe thead tr:only-child th {\n",
       "        text-align: right;\n",
       "    }\n",
       "\n",
       "    .dataframe thead th {\n",
       "        text-align: left;\n",
       "    }\n",
       "\n",
       "    .dataframe tbody tr th {\n",
       "        vertical-align: top;\n",
       "    }\n",
       "</style>\n",
       "<table border=\"1\" class=\"dataframe\">\n",
       "  <thead>\n",
       "    <tr style=\"text-align: right;\">\n",
       "      <th></th>\n",
       "      <th>prices</th>\n",
       "      <th>log_rets</th>\n",
       "      <th>returns</th>\n",
       "      <th>lag_1</th>\n",
       "      <th>lag_2</th>\n",
       "      <th>lag_3</th>\n",
       "      <th>SMA</th>\n",
       "      <th>trend</th>\n",
       "    </tr>\n",
       "    <tr>\n",
       "      <th>Date</th>\n",
       "      <th></th>\n",
       "      <th></th>\n",
       "      <th></th>\n",
       "      <th></th>\n",
       "      <th></th>\n",
       "      <th></th>\n",
       "      <th></th>\n",
       "      <th></th>\n",
       "    </tr>\n",
       "  </thead>\n",
       "  <tbody>\n",
       "    <tr>\n",
       "      <th>2017-04-03</th>\n",
       "      <td>12257.200195</td>\n",
       "      <td>-0.004532</td>\n",
       "      <td>0</td>\n",
       "      <td>3</td>\n",
       "      <td>3</td>\n",
       "      <td>3</td>\n",
       "      <td>12114.518945</td>\n",
       "      <td>1.0</td>\n",
       "    </tr>\n",
       "    <tr>\n",
       "      <th>2017-04-04</th>\n",
       "      <td>12282.339844</td>\n",
       "      <td>0.002049</td>\n",
       "      <td>1</td>\n",
       "      <td>1</td>\n",
       "      <td>3</td>\n",
       "      <td>3</td>\n",
       "      <td>12146.539941</td>\n",
       "      <td>1.0</td>\n",
       "    </tr>\n",
       "    <tr>\n",
       "      <th>2017-04-05</th>\n",
       "      <td>12217.540039</td>\n",
       "      <td>-0.005290</td>\n",
       "      <td>0</td>\n",
       "      <td>3</td>\n",
       "      <td>1</td>\n",
       "      <td>3</td>\n",
       "      <td>12177.881934</td>\n",
       "      <td>1.0</td>\n",
       "    </tr>\n",
       "    <tr>\n",
       "      <th>2017-04-06</th>\n",
       "      <td>12230.889648</td>\n",
       "      <td>0.001092</td>\n",
       "      <td>1</td>\n",
       "      <td>1</td>\n",
       "      <td>3</td>\n",
       "      <td>1</td>\n",
       "      <td>12197.002930</td>\n",
       "      <td>1.0</td>\n",
       "    </tr>\n",
       "    <tr>\n",
       "      <th>2017-04-07</th>\n",
       "      <td>12225.059570</td>\n",
       "      <td>-0.000477</td>\n",
       "      <td>0</td>\n",
       "      <td>3</td>\n",
       "      <td>1</td>\n",
       "      <td>3</td>\n",
       "      <td>12213.081934</td>\n",
       "      <td>1.0</td>\n",
       "    </tr>\n",
       "    <tr>\n",
       "      <th>2017-04-10</th>\n",
       "      <td>12200.519531</td>\n",
       "      <td>-0.002009</td>\n",
       "      <td>0</td>\n",
       "      <td>1</td>\n",
       "      <td>3</td>\n",
       "      <td>1</td>\n",
       "      <td>12233.526855</td>\n",
       "      <td>1.0</td>\n",
       "    </tr>\n",
       "    <tr>\n",
       "      <th>2017-04-11</th>\n",
       "      <td>12139.349609</td>\n",
       "      <td>-0.005026</td>\n",
       "      <td>0</td>\n",
       "      <td>1</td>\n",
       "      <td>1</td>\n",
       "      <td>3</td>\n",
       "      <td>12232.519824</td>\n",
       "      <td>0.0</td>\n",
       "    </tr>\n",
       "    <tr>\n",
       "      <th>2017-04-12</th>\n",
       "      <td>12154.700195</td>\n",
       "      <td>0.001264</td>\n",
       "      <td>1</td>\n",
       "      <td>1</td>\n",
       "      <td>1</td>\n",
       "      <td>1</td>\n",
       "      <td>12227.689844</td>\n",
       "      <td>0.0</td>\n",
       "    </tr>\n",
       "    <tr>\n",
       "      <th>2017-04-13</th>\n",
       "      <td>12109.000000</td>\n",
       "      <td>-0.003767</td>\n",
       "      <td>0</td>\n",
       "      <td>3</td>\n",
       "      <td>1</td>\n",
       "      <td>1</td>\n",
       "      <td>12212.946875</td>\n",
       "      <td>0.0</td>\n",
       "    </tr>\n",
       "    <tr>\n",
       "      <th>2017-04-19</th>\n",
       "      <td>12016.450195</td>\n",
       "      <td>0.001333</td>\n",
       "      <td>1</td>\n",
       "      <td>1</td>\n",
       "      <td>3</td>\n",
       "      <td>1</td>\n",
       "      <td>12183.304883</td>\n",
       "      <td>0.0</td>\n",
       "    </tr>\n",
       "  </tbody>\n",
       "</table>\n",
       "</div>"
      ],
      "text/plain": [
       "                  prices  log_rets  returns  lag_1  lag_2  lag_3  \\\n",
       "Date                                                               \n",
       "2017-04-03  12257.200195 -0.004532        0      3      3      3   \n",
       "2017-04-04  12282.339844  0.002049        1      1      3      3   \n",
       "2017-04-05  12217.540039 -0.005290        0      3      1      3   \n",
       "2017-04-06  12230.889648  0.001092        1      1      3      1   \n",
       "2017-04-07  12225.059570 -0.000477        0      3      1      3   \n",
       "2017-04-10  12200.519531 -0.002009        0      1      3      1   \n",
       "2017-04-11  12139.349609 -0.005026        0      1      1      3   \n",
       "2017-04-12  12154.700195  0.001264        1      1      1      1   \n",
       "2017-04-13  12109.000000 -0.003767        0      3      1      1   \n",
       "2017-04-19  12016.450195  0.001333        1      1      3      1   \n",
       "\n",
       "                     SMA  trend  \n",
       "Date                             \n",
       "2017-04-03  12114.518945    1.0  \n",
       "2017-04-04  12146.539941    1.0  \n",
       "2017-04-05  12177.881934    1.0  \n",
       "2017-04-06  12197.002930    1.0  \n",
       "2017-04-07  12213.081934    1.0  \n",
       "2017-04-10  12233.526855    1.0  \n",
       "2017-04-11  12232.519824    0.0  \n",
       "2017-04-12  12227.689844    0.0  \n",
       "2017-04-13  12212.946875    0.0  \n",
       "2017-04-19  12183.304883    0.0  "
      ]
     },
     "execution_count": 21,
     "metadata": {},
     "output_type": "execute_result"
    }
   ],
   "source": [
    "data"
   ]
  },
  {
   "cell_type": "code",
   "execution_count": 22,
   "metadata": {
    "ExecuteTime": {
     "end_time": "2017-10-18T15:35:07.116198Z",
     "start_time": "2017-10-18T15:35:07.111664Z"
    },
    "run_control": {
     "frozen": false
    }
   },
   "outputs": [
    {
     "data": {
      "text/plain": [
       "array([[3, 3, 3, 1],\n",
       "       [1, 3, 3, 1],\n",
       "       [3, 1, 3, 1],\n",
       "       [1, 3, 1, 1],\n",
       "       [3, 1, 3, 1],\n",
       "       [1, 3, 1, 1],\n",
       "       [1, 1, 3, 0],\n",
       "       [1, 1, 1, 0],\n",
       "       [3, 1, 1, 0],\n",
       "       [1, 3, 1, 0]])"
      ]
     },
     "execution_count": 22,
     "metadata": {},
     "output_type": "execute_result"
    }
   ],
   "source": [
    "x = data[cols].values\n",
    "x.astype(int)"
   ]
  },
  {
   "cell_type": "code",
   "execution_count": 23,
   "metadata": {
    "ExecuteTime": {
     "end_time": "2017-10-18T15:35:07.121076Z",
     "start_time": "2017-10-18T15:35:07.117254Z"
    },
    "run_control": {
     "frozen": false
    }
   },
   "outputs": [
    {
     "data": {
      "text/plain": [
       "array([[0],\n",
       "       [1],\n",
       "       [0],\n",
       "       [1],\n",
       "       [0],\n",
       "       [0],\n",
       "       [0],\n",
       "       [1],\n",
       "       [0],\n",
       "       [1]])"
      ]
     },
     "execution_count": 23,
     "metadata": {},
     "output_type": "execute_result"
    }
   ],
   "source": [
    "y = data['returns'].values.reshape((1, -1)).T\n",
    "y"
   ]
  },
  {
   "cell_type": "code",
   "execution_count": 24,
   "metadata": {
    "ExecuteTime": {
     "end_time": "2017-10-18T15:35:07.126294Z",
     "start_time": "2017-10-18T15:35:07.122106Z"
    },
    "run_control": {
     "frozen": false
    }
   },
   "outputs": [
    {
     "data": {
      "text/plain": [
       "array([[-0.16595599],\n",
       "       [ 0.44064899],\n",
       "       [-0.99977125],\n",
       "       [-0.39533485]])"
      ]
     },
     "execution_count": 24,
     "metadata": {},
     "output_type": "execute_result"
    }
   ],
   "source": [
    "# initialize weights randomly with mean 0\n",
    "np.random.seed(1)\n",
    "weights = 2 * np.random.random((lags, 1)) - 1\n",
    "weights"
   ]
  },
  {
   "cell_type": "code",
   "execution_count": 25,
   "metadata": {
    "ExecuteTime": {
     "end_time": "2017-10-18T15:35:07.130951Z",
     "start_time": "2017-10-18T15:35:07.127420Z"
    },
    "collapsed": true,
    "run_control": {
     "frozen": false
    }
   },
   "outputs": [],
   "source": [
    "# sigmoid function\n",
    "def sigmoid(x, deriv=False):\n",
    "    if deriv == True:\n",
    "        return sigmoid(x) * (1 - sigmoid(x))\n",
    "    return 1 / (1 + np.exp(-x))"
   ]
  },
  {
   "cell_type": "code",
   "execution_count": 26,
   "metadata": {
    "ExecuteTime": {
     "end_time": "2017-10-18T15:35:07.149803Z",
     "start_time": "2017-10-18T15:35:07.132095Z"
    },
    "run_control": {
     "frozen": false
    }
   },
   "outputs": [
    {
     "name": "stdout",
     "output_type": "stream",
     "text": [
      "\n",
      "after 0 iterations\n",
      "MSE:     0.206736958195\n",
      "\n",
      "after 200 iterations\n",
      "MSE:     0.156683860336\n"
     ]
    }
   ],
   "source": [
    "for _ in range(201):\n",
    "    # forward propagation\n",
    "    # layer 1\n",
    "    l1 = sigmoid(np.dot(x, weights))\n",
    "\n",
    "    # errors of layer 1\n",
    "    e = y - l1\n",
    "    if _ % 200 == 0:\n",
    "        print('\\nafter %d iterations' % _)\n",
    "        print('MSE:    ', (e ** 2).mean())\n",
    "\n",
    "    # multiply errors by the slope of the \n",
    "    # sigmoid at the values in l1\n",
    "    d = e * sigmoid(l1, True)\n",
    "\n",
    "    # update weights\n",
    "    weights += np.dot(x.T, d)"
   ]
  },
  {
   "cell_type": "code",
   "execution_count": 27,
   "metadata": {
    "ExecuteTime": {
     "end_time": "2017-10-18T15:35:07.154192Z",
     "start_time": "2017-10-18T15:35:07.150871Z"
    },
    "run_control": {
     "frozen": false
    }
   },
   "outputs": [
    {
     "name": "stdout",
     "output_type": "stream",
     "text": [
      "[[0 0 0 1 0 1 0 0 0 1]]\n",
      "[[0 1 0 1 0 0 0 1 0 1]]\n"
     ]
    }
   ],
   "source": [
    "print(l1.round().astype(int).T)\n",
    "print(y.T)"
   ]
  },
  {
   "cell_type": "code",
   "execution_count": 28,
   "metadata": {
    "ExecuteTime": {
     "end_time": "2017-10-18T15:35:07.158488Z",
     "start_time": "2017-10-18T15:35:07.155402Z"
    },
    "run_control": {
     "frozen": false
    }
   },
   "outputs": [
    {
     "data": {
      "text/plain": [
       "array([[ True],\n",
       "       [False],\n",
       "       [ True],\n",
       "       [ True],\n",
       "       [ True],\n",
       "       [False],\n",
       "       [ True],\n",
       "       [False],\n",
       "       [ True],\n",
       "       [ True]], dtype=bool)"
      ]
     },
     "execution_count": 28,
     "metadata": {},
     "output_type": "execute_result"
    }
   ],
   "source": [
    "l1.round() == y"
   ]
  },
  {
   "cell_type": "markdown",
   "metadata": {
    "run_control": {
     "frozen": false
    }
   },
   "source": [
    "## Neural Network Training &mdash; Bigger Data Set"
   ]
  },
  {
   "cell_type": "markdown",
   "metadata": {},
   "source": [
    "A cut-off date is used instead of just using the last ten entries. "
   ]
  },
  {
   "cell_type": "markdown",
   "metadata": {
    "run_control": {
     "frozen": false
    }
   },
   "source": [
    "### Training"
   ]
  },
  {
   "cell_type": "code",
   "execution_count": 29,
   "metadata": {
    "ExecuteTime": {
     "end_time": "2017-10-18T15:35:07.161742Z",
     "start_time": "2017-10-18T15:35:07.159604Z"
    },
    "collapsed": true,
    "run_control": {
     "frozen": false
    }
   },
   "outputs": [],
   "source": [
    "cutoff = '2009-1-1'"
   ]
  },
  {
   "cell_type": "code",
   "execution_count": 30,
   "metadata": {
    "ExecuteTime": {
     "end_time": "2017-10-18T15:35:07.167733Z",
     "start_time": "2017-10-18T15:35:07.162800Z"
    },
    "collapsed": true,
    "run_control": {
     "frozen": false
    }
   },
   "outputs": [],
   "source": [
    "data = raw[raw.index < cutoff].dropna().copy()"
   ]
  },
  {
   "cell_type": "code",
   "execution_count": 31,
   "metadata": {
    "ExecuteTime": {
     "end_time": "2017-10-18T15:35:07.173398Z",
     "start_time": "2017-10-18T15:35:07.168775Z"
    },
    "run_control": {
     "frozen": false
    }
   },
   "outputs": [
    {
     "data": {
      "text/plain": [
       "array([[-0.16595599],\n",
       "       [ 0.44064899],\n",
       "       [-0.99977125],\n",
       "       [-0.39533485]])"
      ]
     },
     "execution_count": 31,
     "metadata": {},
     "output_type": "execute_result"
    }
   ],
   "source": [
    "# initialize weights randomly with mean 0\n",
    "np.random.seed(1)\n",
    "weights = 2 * np.random.random((lags, 1)) - 1\n",
    "weights"
   ]
  },
  {
   "cell_type": "code",
   "execution_count": 32,
   "metadata": {
    "ExecuteTime": {
     "end_time": "2017-10-18T15:35:07.177503Z",
     "start_time": "2017-10-18T15:35:07.174522Z"
    },
    "collapsed": true,
    "run_control": {
     "frozen": false
    }
   },
   "outputs": [],
   "source": [
    "x = data[cols].values"
   ]
  },
  {
   "cell_type": "code",
   "execution_count": 33,
   "metadata": {
    "ExecuteTime": {
     "end_time": "2017-10-18T15:35:07.180995Z",
     "start_time": "2017-10-18T15:35:07.178453Z"
    },
    "collapsed": true,
    "run_control": {
     "frozen": false
    }
   },
   "outputs": [],
   "source": [
    "y = data['returns'].values.reshape((1, -1)).T"
   ]
  },
  {
   "cell_type": "code",
   "execution_count": 34,
   "metadata": {
    "ExecuteTime": {
     "end_time": "2017-10-18T15:35:07.292928Z",
     "start_time": "2017-10-18T15:35:07.182526Z"
    },
    "run_control": {
     "frozen": false
    }
   },
   "outputs": [
    {
     "name": "stdout",
     "output_type": "stream",
     "text": [
      "\n",
      "after 0 iterations\n",
      "MSE:     0.374704210808\n",
      "\n",
      "after 200 iterations\n",
      "MSE:     0.249062883733\n",
      "\n",
      "after 400 iterations\n",
      "MSE:     0.249062112447\n",
      "\n",
      "after 600 iterations\n",
      "MSE:     0.249062112072\n",
      "\n",
      "after 800 iterations\n",
      "MSE:     0.249062112069\n",
      "\n",
      "after 1000 iterations\n",
      "MSE:     0.249062112069\n"
     ]
    }
   ],
   "source": [
    "for _ in range(1001):\n",
    "    # forward propagation\n",
    "    # layer 1\n",
    "    l1 = sigmoid(np.dot(x, weights))\n",
    "\n",
    "    # errors of layer 1\n",
    "    e = y - l1\n",
    "    if _ % 200 == 0:\n",
    "        print('\\nafter %d iterations' % _)\n",
    "        print('MSE:    ', (e ** 2).mean())\n",
    "\n",
    "    # multiply errors by the slope of the \n",
    "    # sigmoid at the values in l1\n",
    "    d = e * sigmoid(l1, True)\n",
    "\n",
    "    # update weights\n",
    "    weights += 0.001 * np.dot(x.T, d)"
   ]
  },
  {
   "cell_type": "code",
   "execution_count": 35,
   "metadata": {
    "ExecuteTime": {
     "end_time": "2017-10-18T15:35:07.297373Z",
     "start_time": "2017-10-18T15:35:07.294050Z"
    },
    "run_control": {
     "frozen": false
    }
   },
   "outputs": [
    {
     "name": "stdout",
     "output_type": "stream",
     "text": [
      "[[0 1 1 ..., 0 0 1]]\n",
      "[[0 1 1 ..., 0 1 1]]\n"
     ]
    }
   ],
   "source": [
    "print(l1.round().astype(int).T)\n",
    "print(y.T)"
   ]
  },
  {
   "cell_type": "code",
   "execution_count": 36,
   "metadata": {
    "ExecuteTime": {
     "end_time": "2017-10-18T15:35:07.306974Z",
     "start_time": "2017-10-18T15:35:07.298486Z"
    },
    "run_control": {
     "frozen": false
    }
   },
   "outputs": [
    {
     "data": {
      "text/plain": [
       "array([ 0.51916058])"
      ]
     },
     "execution_count": 36,
     "metadata": {},
     "output_type": "execute_result"
    }
   ],
   "source": [
    "sum(y) / len(y)"
   ]
  },
  {
   "cell_type": "code",
   "execution_count": 37,
   "metadata": {
    "ExecuteTime": {
     "end_time": "2017-10-18T15:35:07.315489Z",
     "start_time": "2017-10-18T15:35:07.308015Z"
    },
    "run_control": {
     "frozen": false
    }
   },
   "outputs": [
    {
     "data": {
      "text/plain": [
       "array([ 0.51551095])"
      ]
     },
     "execution_count": 37,
     "metadata": {},
     "output_type": "execute_result"
    }
   ],
   "source": [
    "sum(l1.round() == y) / len(data)"
   ]
  },
  {
   "cell_type": "code",
   "execution_count": 38,
   "metadata": {
    "ExecuteTime": {
     "end_time": "2017-10-18T15:35:07.320542Z",
     "start_time": "2017-10-18T15:35:07.316754Z"
    },
    "collapsed": true,
    "run_control": {
     "frozen": false
    }
   },
   "outputs": [],
   "source": [
    "data['pred'] = np.where(l1.round() > 0, 1, -1)"
   ]
  },
  {
   "cell_type": "code",
   "execution_count": 39,
   "metadata": {
    "ExecuteTime": {
     "end_time": "2017-10-18T15:35:07.325038Z",
     "start_time": "2017-10-18T15:35:07.321749Z"
    },
    "collapsed": true,
    "run_control": {
     "frozen": false
    }
   },
   "outputs": [],
   "source": [
    "data['strategy'] = data['log_rets'] * data['pred']"
   ]
  },
  {
   "cell_type": "code",
   "execution_count": 40,
   "metadata": {
    "ExecuteTime": {
     "end_time": "2017-10-18T15:35:07.337569Z",
     "start_time": "2017-10-18T15:35:07.326084Z"
    },
    "run_control": {
     "frozen": false
    }
   },
   "outputs": [
    {
     "data": {
      "text/html": [
       "<div>\n",
       "<style>\n",
       "    .dataframe thead tr:only-child th {\n",
       "        text-align: right;\n",
       "    }\n",
       "\n",
       "    .dataframe thead th {\n",
       "        text-align: left;\n",
       "    }\n",
       "\n",
       "    .dataframe tbody tr th {\n",
       "        vertical-align: top;\n",
       "    }\n",
       "</style>\n",
       "<table border=\"1\" class=\"dataframe\">\n",
       "  <thead>\n",
       "    <tr style=\"text-align: right;\">\n",
       "      <th></th>\n",
       "      <th>prices</th>\n",
       "      <th>log_rets</th>\n",
       "      <th>returns</th>\n",
       "      <th>lag_1</th>\n",
       "      <th>lag_2</th>\n",
       "      <th>lag_3</th>\n",
       "      <th>SMA</th>\n",
       "      <th>trend</th>\n",
       "      <th>pred</th>\n",
       "      <th>strategy</th>\n",
       "    </tr>\n",
       "    <tr>\n",
       "      <th>Date</th>\n",
       "      <th></th>\n",
       "      <th></th>\n",
       "      <th></th>\n",
       "      <th></th>\n",
       "      <th></th>\n",
       "      <th></th>\n",
       "      <th></th>\n",
       "      <th></th>\n",
       "      <th></th>\n",
       "      <th></th>\n",
       "    </tr>\n",
       "  </thead>\n",
       "  <tbody>\n",
       "    <tr>\n",
       "      <th>2000-01-18</th>\n",
       "      <td>7072.120117</td>\n",
       "      <td>-0.014194</td>\n",
       "      <td>0</td>\n",
       "      <td>4</td>\n",
       "      <td>3</td>\n",
       "      <td>3</td>\n",
       "      <td>6827.580029</td>\n",
       "      <td>0.0</td>\n",
       "      <td>-1</td>\n",
       "      <td>0.014194</td>\n",
       "    </tr>\n",
       "    <tr>\n",
       "      <th>2000-01-19</th>\n",
       "      <td>7091.040039</td>\n",
       "      <td>0.002672</td>\n",
       "      <td>1</td>\n",
       "      <td>1</td>\n",
       "      <td>4</td>\n",
       "      <td>3</td>\n",
       "      <td>6877.989014</td>\n",
       "      <td>1.0</td>\n",
       "      <td>1</td>\n",
       "      <td>0.002672</td>\n",
       "    </tr>\n",
       "    <tr>\n",
       "      <th>2000-01-20</th>\n",
       "      <td>7112.660156</td>\n",
       "      <td>0.003044</td>\n",
       "      <td>1</td>\n",
       "      <td>3</td>\n",
       "      <td>1</td>\n",
       "      <td>4</td>\n",
       "      <td>6939.048047</td>\n",
       "      <td>1.0</td>\n",
       "      <td>1</td>\n",
       "      <td>0.003044</td>\n",
       "    </tr>\n",
       "    <tr>\n",
       "      <th>2000-01-21</th>\n",
       "      <td>6992.750000</td>\n",
       "      <td>-0.017002</td>\n",
       "      <td>0</td>\n",
       "      <td>3</td>\n",
       "      <td>3</td>\n",
       "      <td>1</td>\n",
       "      <td>6990.831055</td>\n",
       "      <td>1.0</td>\n",
       "      <td>1</td>\n",
       "      <td>-0.017002</td>\n",
       "    </tr>\n",
       "    <tr>\n",
       "      <th>2000-01-24</th>\n",
       "      <td>6931.990234</td>\n",
       "      <td>-0.008727</td>\n",
       "      <td>0</td>\n",
       "      <td>0</td>\n",
       "      <td>3</td>\n",
       "      <td>3</td>\n",
       "      <td>7005.934082</td>\n",
       "      <td>1.0</td>\n",
       "      <td>1</td>\n",
       "      <td>-0.008727</td>\n",
       "    </tr>\n",
       "  </tbody>\n",
       "</table>\n",
       "</div>"
      ],
      "text/plain": [
       "                 prices  log_rets  returns  lag_1  lag_2  lag_3          SMA  \\\n",
       "Date                                                                           \n",
       "2000-01-18  7072.120117 -0.014194        0      4      3      3  6827.580029   \n",
       "2000-01-19  7091.040039  0.002672        1      1      4      3  6877.989014   \n",
       "2000-01-20  7112.660156  0.003044        1      3      1      4  6939.048047   \n",
       "2000-01-21  6992.750000 -0.017002        0      3      3      1  6990.831055   \n",
       "2000-01-24  6931.990234 -0.008727        0      0      3      3  7005.934082   \n",
       "\n",
       "            trend  pred  strategy  \n",
       "Date                               \n",
       "2000-01-18    0.0    -1  0.014194  \n",
       "2000-01-19    1.0     1  0.002672  \n",
       "2000-01-20    1.0     1  0.003044  \n",
       "2000-01-21    1.0     1 -0.017002  \n",
       "2000-01-24    1.0     1 -0.008727  "
      ]
     },
     "execution_count": 40,
     "metadata": {},
     "output_type": "execute_result"
    }
   ],
   "source": [
    "data.head()"
   ]
  },
  {
   "cell_type": "code",
   "execution_count": 41,
   "metadata": {
    "ExecuteTime": {
     "end_time": "2017-10-18T15:35:07.604682Z",
     "start_time": "2017-10-18T15:35:07.338600Z"
    },
    "run_control": {
     "frozen": false
    }
   },
   "outputs": [
    {
     "data": {
      "text/plain": [
       "<matplotlib.axes._subplots.AxesSubplot at 0x1145f7be0>"
      ]
     },
     "execution_count": 41,
     "metadata": {},
     "output_type": "execute_result"
    },
    {
     "data": {
      "image/png": "[encoded data removed]",
      "text/plain": [
       "<matplotlib.figure.Figure at 0x1145f7710>"
      ]
     },
     "metadata": {},
     "output_type": "display_data"
    }
   ],
   "source": [
    "data[['log_rets', 'strategy']].cumsum().apply(np.exp).plot(figsize=(10, 6))"
   ]
  },
  {
   "cell_type": "markdown",
   "metadata": {
    "run_control": {
     "frozen": false
    }
   },
   "source": [
    "## Testing"
   ]
  },
  {
   "cell_type": "code",
   "execution_count": 42,
   "metadata": {
    "ExecuteTime": {
     "end_time": "2017-10-18T15:35:07.610043Z",
     "start_time": "2017-10-18T15:35:07.606216Z"
    },
    "run_control": {
     "frozen": false
    },
    "scrolled": true
   },
   "outputs": [
    {
     "data": {
      "text/plain": [
       "array([[-0.03934092],\n",
       "       [-0.01149524],\n",
       "       [-0.01077916],\n",
       "       [ 0.27719233]])"
      ]
     },
     "execution_count": 42,
     "metadata": {},
     "output_type": "execute_result"
    }
   ],
   "source": [
    "weights"
   ]
  },
  {
   "cell_type": "code",
   "execution_count": 43,
   "metadata": {
    "ExecuteTime": {
     "end_time": "2017-10-18T15:35:07.619718Z",
     "start_time": "2017-10-18T15:35:07.611488Z"
    },
    "collapsed": true,
    "run_control": {
     "frozen": false
    }
   },
   "outputs": [],
   "source": [
    "data = raw[raw.index > cutoff].dropna().copy()"
   ]
  },
  {
   "cell_type": "code",
   "execution_count": 44,
   "metadata": {
    "ExecuteTime": {
     "end_time": "2017-10-18T15:35:07.624681Z",
     "start_time": "2017-10-18T15:35:07.621271Z"
    },
    "collapsed": true,
    "run_control": {
     "frozen": false
    }
   },
   "outputs": [],
   "source": [
    "x = data[cols].values"
   ]
  },
  {
   "cell_type": "code",
   "execution_count": 45,
   "metadata": {
    "ExecuteTime": {
     "end_time": "2017-10-18T15:35:07.628737Z",
     "start_time": "2017-10-18T15:35:07.626151Z"
    },
    "collapsed": true,
    "run_control": {
     "frozen": false
    }
   },
   "outputs": [],
   "source": [
    "l1 = sigmoid(np.dot(x, weights))"
   ]
  },
  {
   "cell_type": "code",
   "execution_count": 46,
   "metadata": {
    "ExecuteTime": {
     "end_time": "2017-10-18T15:35:07.634362Z",
     "start_time": "2017-10-18T15:35:07.630225Z"
    },
    "run_control": {
     "frozen": false
    }
   },
   "outputs": [
    {
     "data": {
      "text/plain": [
       "array([[ 1.],\n",
       "       [ 1.],\n",
       "       [ 1.],\n",
       "       ..., \n",
       "       [ 0.],\n",
       "       [ 0.],\n",
       "       [ 0.]])"
      ]
     },
     "execution_count": 46,
     "metadata": {},
     "output_type": "execute_result"
    }
   ],
   "source": [
    "l1.round()"
   ]
  },
  {
   "cell_type": "code",
   "execution_count": 47,
   "metadata": {
    "ExecuteTime": {
     "end_time": "2017-10-18T15:35:07.638509Z",
     "start_time": "2017-10-18T15:35:07.635781Z"
    },
    "collapsed": true,
    "run_control": {
     "frozen": false
    }
   },
   "outputs": [],
   "source": [
    "y = data['returns'].values.reshape((1, -1)).T"
   ]
  },
  {
   "cell_type": "code",
   "execution_count": 48,
   "metadata": {
    "ExecuteTime": {
     "end_time": "2017-10-18T15:35:07.643295Z",
     "start_time": "2017-10-18T15:35:07.639897Z"
    },
    "run_control": {
     "frozen": false
    }
   },
   "outputs": [
    {
     "data": {
      "text/plain": [
       "array([[1],\n",
       "       [1],\n",
       "       [0],\n",
       "       ..., \n",
       "       [1],\n",
       "       [0],\n",
       "       [1]])"
      ]
     },
     "execution_count": 48,
     "metadata": {},
     "output_type": "execute_result"
    }
   ],
   "source": [
    "y"
   ]
  },
  {
   "cell_type": "code",
   "execution_count": 49,
   "metadata": {
    "ExecuteTime": {
     "end_time": "2017-10-18T15:35:07.650036Z",
     "start_time": "2017-10-18T15:35:07.644527Z"
    },
    "run_control": {
     "frozen": false
    }
   },
   "outputs": [
    {
     "data": {
      "text/plain": [
       "array([ 0.5383488])"
      ]
     },
     "execution_count": 49,
     "metadata": {},
     "output_type": "execute_result"
    }
   ],
   "source": [
    "sum(y) / len(y)"
   ]
  },
  {
   "cell_type": "code",
   "execution_count": 50,
   "metadata": {
    "ExecuteTime": {
     "end_time": "2017-10-18T15:35:07.658383Z",
     "start_time": "2017-10-18T15:35:07.651436Z"
    },
    "run_control": {
     "frozen": false
    }
   },
   "outputs": [
    {
     "data": {
      "text/plain": [
       "array([ 0.4963361])"
      ]
     },
     "execution_count": 50,
     "metadata": {},
     "output_type": "execute_result"
    }
   ],
   "source": [
    "sum(l1.round() == y) / len(data)"
   ]
  },
  {
   "cell_type": "code",
   "execution_count": 51,
   "metadata": {
    "ExecuteTime": {
     "end_time": "2017-10-18T15:35:07.664847Z",
     "start_time": "2017-10-18T15:35:07.660154Z"
    },
    "collapsed": true,
    "run_control": {
     "frozen": false
    }
   },
   "outputs": [],
   "source": [
    "data['pred'] = np.where(l1.round() > 0, 1, -1)"
   ]
  },
  {
   "cell_type": "code",
   "execution_count": 52,
   "metadata": {
    "ExecuteTime": {
     "end_time": "2017-10-18T15:35:07.669860Z",
     "start_time": "2017-10-18T15:35:07.666413Z"
    },
    "collapsed": true,
    "run_control": {
     "frozen": false
    }
   },
   "outputs": [],
   "source": [
    "data['strategy'] = data['log_rets'] * data['pred']"
   ]
  },
  {
   "cell_type": "code",
   "execution_count": 53,
   "metadata": {
    "ExecuteTime": {
     "end_time": "2017-10-18T15:35:07.684662Z",
     "start_time": "2017-10-18T15:35:07.671288Z"
    },
    "run_control": {
     "frozen": false
    }
   },
   "outputs": [
    {
     "data": {
      "text/html": [
       "<div>\n",
       "<style>\n",
       "    .dataframe thead tr:only-child th {\n",
       "        text-align: right;\n",
       "    }\n",
       "\n",
       "    .dataframe thead th {\n",
       "        text-align: left;\n",
       "    }\n",
       "\n",
       "    .dataframe tbody tr th {\n",
       "        vertical-align: top;\n",
       "    }\n",
       "</style>\n",
       "<table border=\"1\" class=\"dataframe\">\n",
       "  <thead>\n",
       "    <tr style=\"text-align: right;\">\n",
       "      <th></th>\n",
       "      <th>prices</th>\n",
       "      <th>log_rets</th>\n",
       "      <th>returns</th>\n",
       "      <th>lag_1</th>\n",
       "      <th>lag_2</th>\n",
       "      <th>lag_3</th>\n",
       "      <th>SMA</th>\n",
       "      <th>trend</th>\n",
       "      <th>pred</th>\n",
       "      <th>strategy</th>\n",
       "    </tr>\n",
       "    <tr>\n",
       "      <th>Date</th>\n",
       "      <th></th>\n",
       "      <th></th>\n",
       "      <th></th>\n",
       "      <th></th>\n",
       "      <th></th>\n",
       "      <th></th>\n",
       "      <th></th>\n",
       "      <th></th>\n",
       "      <th></th>\n",
       "      <th></th>\n",
       "    </tr>\n",
       "  </thead>\n",
       "  <tbody>\n",
       "    <tr>\n",
       "      <th>2009-01-05</th>\n",
       "      <td>4983.990234</td>\n",
       "      <td>0.002194</td>\n",
       "      <td>1</td>\n",
       "      <td>4</td>\n",
       "      <td>4</td>\n",
       "      <td>2</td>\n",
       "      <td>4718.768994</td>\n",
       "      <td>1.0</td>\n",
       "      <td>1</td>\n",
       "      <td>0.002194</td>\n",
       "    </tr>\n",
       "    <tr>\n",
       "      <th>2009-01-06</th>\n",
       "      <td>5026.310059</td>\n",
       "      <td>0.008455</td>\n",
       "      <td>1</td>\n",
       "      <td>3</td>\n",
       "      <td>4</td>\n",
       "      <td>4</td>\n",
       "      <td>4750.562012</td>\n",
       "      <td>1.0</td>\n",
       "      <td>1</td>\n",
       "      <td>0.008455</td>\n",
       "    </tr>\n",
       "    <tr>\n",
       "      <th>2009-01-07</th>\n",
       "      <td>4937.470215</td>\n",
       "      <td>-0.017833</td>\n",
       "      <td>0</td>\n",
       "      <td>3</td>\n",
       "      <td>3</td>\n",
       "      <td>4</td>\n",
       "      <td>4768.669043</td>\n",
       "      <td>1.0</td>\n",
       "      <td>1</td>\n",
       "      <td>-0.017833</td>\n",
       "    </tr>\n",
       "    <tr>\n",
       "      <th>2009-01-08</th>\n",
       "      <td>4879.910156</td>\n",
       "      <td>-0.011726</td>\n",
       "      <td>0</td>\n",
       "      <td>0</td>\n",
       "      <td>3</td>\n",
       "      <td>3</td>\n",
       "      <td>4786.990039</td>\n",
       "      <td>1.0</td>\n",
       "      <td>1</td>\n",
       "      <td>-0.011726</td>\n",
       "    </tr>\n",
       "    <tr>\n",
       "      <th>2009-01-09</th>\n",
       "      <td>4783.890137</td>\n",
       "      <td>-0.019873</td>\n",
       "      <td>0</td>\n",
       "      <td>1</td>\n",
       "      <td>0</td>\n",
       "      <td>3</td>\n",
       "      <td>4801.477051</td>\n",
       "      <td>1.0</td>\n",
       "      <td>1</td>\n",
       "      <td>-0.019873</td>\n",
       "    </tr>\n",
       "  </tbody>\n",
       "</table>\n",
       "</div>"
      ],
      "text/plain": [
       "                 prices  log_rets  returns  lag_1  lag_2  lag_3          SMA  \\\n",
       "Date                                                                           \n",
       "2009-01-05  4983.990234  0.002194        1      4      4      2  4718.768994   \n",
       "2009-01-06  5026.310059  0.008455        1      3      4      4  4750.562012   \n",
       "2009-01-07  4937.470215 -0.017833        0      3      3      4  4768.669043   \n",
       "2009-01-08  4879.910156 -0.011726        0      0      3      3  4786.990039   \n",
       "2009-01-09  4783.890137 -0.019873        0      1      0      3  4801.477051   \n",
       "\n",
       "            trend  pred  strategy  \n",
       "Date                               \n",
       "2009-01-05    1.0     1  0.002194  \n",
       "2009-01-06    1.0     1  0.008455  \n",
       "2009-01-07    1.0     1 -0.017833  \n",
       "2009-01-08    1.0     1 -0.011726  \n",
       "2009-01-09    1.0     1 -0.019873  "
      ]
     },
     "execution_count": 53,
     "metadata": {},
     "output_type": "execute_result"
    }
   ],
   "source": [
    "data.head()"
   ]
  },
  {
   "cell_type": "code",
   "execution_count": 54,
   "metadata": {
    "ExecuteTime": {
     "end_time": "2017-10-18T15:35:07.948212Z",
     "start_time": "2017-10-18T15:35:07.686185Z"
    },
    "run_control": {
     "frozen": false
    }
   },
   "outputs": [
    {
     "data": {
      "text/plain": [
       "<matplotlib.axes._subplots.AxesSubplot at 0x11483c4a8>"
      ]
     },
     "execution_count": 54,
     "metadata": {},
     "output_type": "execute_result"
    },
    {
     "data": {
      "image/png": "[encoded data removed]",
      "text/plain": [
       "<matplotlib.figure.Figure at 0x1148685f8>"
      ]
     },
     "metadata": {},
     "output_type": "display_data"
    }
   ],
   "source": [
    "data[['log_rets', 'strategy']].cumsum().apply(np.exp).plot(figsize=(10, 6))"
   ]
  },
  {
   "cell_type": "markdown",
   "metadata": {},
   "source": [
    "This comes to show that a strategy which works with past data is not always a good strategy going forward. Especially when using pattern matching models which might heavily overfit the given training dataset."
   ]
  },
  {
   "cell_type": "markdown",
   "metadata": {
    "run_control": {
     "frozen": false
    }
   },
   "source": [
    "<img src=\"http://hilpisch.com/tpq_logo.png\" width=350px align=\"right\">"
   ]
  }
 ],
 "metadata": {
  "kernelspec": {
   "display_name": "Python 3",
   "language": "python",
   "name": "python3"
  },
  "language_info": {
   "codemirror_mode": {
    "name": "ipython",
    "version": 3
   },
   "file_extension": ".py",
   "mimetype": "text/x-python",
   "name": "python",
   "nbconvert_exporter": "python",
   "pygments_lexer": "ipython3",
   "version": "3.6.1"
  }
 },
 "nbformat": 4,
 "nbformat_minor": 2
}
